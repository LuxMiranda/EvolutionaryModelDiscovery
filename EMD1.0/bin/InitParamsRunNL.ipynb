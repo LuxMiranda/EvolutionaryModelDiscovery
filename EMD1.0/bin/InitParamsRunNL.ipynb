{
 "cells": [
  {
   "cell_type": "code",
   "execution_count": 1,
   "metadata": {
    "collapsed": true
   },
   "outputs": [],
   "source": [
    "from subprocess import check_output\n",
    "import subprocess\n",
    "import threading\n",
    "import os\n",
    "\n",
    "\n",
    "def runServer(): \n",
    "    env = dict(os.environ)\n",
    "    env['JAVA_OPTS'] = ''\n",
    "    subprocess.call(['./startserver.bat'], env=env)\n",
    "\n",
    "\n",
    "thread = threading.Thread(target=runServer, args=())\n",
    "thread.start()"
   ]
  },
  {
   "cell_type": "code",
   "execution_count": 2,
   "metadata": {
    "collapsed": true
   },
   "outputs": [],
   "source": [
    "import py4j.java_gateway as jg\n",
    "from py4j.java_gateway import JavaGateway\n",
    "\n",
    "def run_model(model_string, steps, metric):\n",
    "    gw = JavaGateway() # New gateway connection\n",
    "    bridge = gw.entry_point\n",
    "    bridge.openModel(model_string)\n",
    "    setParamsRandom(gw,bridge, model_string)\n",
    "    bridge.command(\"setup\")\n",
    "    bridge.command(\"repeat \" + str(steps) + \" [go]\")\n",
    "    return bridge.report(\"count turtles\")\n",
    "\n",
    "def setParamsRandom(gateway, bridge, model_string):\n",
    "    paramSpecs = bridge.getParamList(model_string).getParamSpecs()\n",
    "\n",
    "    for paramSpec in paramSpecs:\n",
    "        if jg.is_instance_of(gateway,paramSpec,\"bsearch.space.DoubleDiscreteSpec\"):\n",
    "            paramValue = paramSpec.generateRandomValue(gateway.jvm.org.nlogo.api.MersenneTwisterFast())\n",
    "        if jg.is_instance_of(gateway,paramSpec,\"bsearch.space.DoubleContinuousSpec\"):\n",
    "            paramValue = paramSpec.generateRandomValue(gateway.jvm.org.nlogo.api.MersenneTwisterFast())\n",
    "        if jg.is_instance_of(gateway,paramSpec,\"bsearch.space.CategoricalSpec\"):\n",
    "            paramValue = paramSpec.generateRandomValue(gateway.jvm.org.nlogo.api.MersenneTwisterFast())\n",
    "        if jg.is_instance_of(gateway,paramSpec,\"bsearch.space.ConstantSpec\"):\n",
    "            paramValue = paramSpec.generateRandomValue(gateway.jvm.org.nlogo.api.MersenneTwisterFast())\n",
    "        print(\"set \" + str(paramSpec.getParameterName()) + \" \" + str(paramValue))\n",
    "        bridge.command(\"set \" + str(paramSpec.getParameterName()) + \" \" + str(paramValue))\n",
    "    \n"
   ]
  },
  {
   "cell_type": "code",
   "execution_count": 3,
   "metadata": {},
   "outputs": [
    {
     "name": "stdout",
     "output_type": "stream",
     "text": [
      "set map-view water sources\n",
      "set harvest-adjustment 0.45\n",
      "set harvest-variance 0.02\n",
      "set death-age 30.0\n",
      "set fertility-ends-age 33.0\n",
      "set fertility 0.179\n",
      "set historic-view? False\n",
      "596.0\n"
     ]
    }
   ],
   "source": [
    "metric = \"count households\"\n",
    "model_string = \"C:/Program Files/NetLogo 6.0.2/app/models/Sample Models/Social Science/Unverified/Artificial Anasazi.nlogo\"\n",
    "print(run_model(model_string,  50, metric))"
   ]
  },
  {
   "cell_type": "code",
   "execution_count": null,
   "metadata": {
    "collapsed": true
   },
   "outputs": [],
   "source": []
  }
 ],
 "metadata": {
  "kernelspec": {
   "display_name": "Python 3",
   "language": "python",
   "name": "python3"
  },
  "language_info": {
   "codemirror_mode": {
    "name": "ipython",
    "version": 3
   },
   "file_extension": ".py",
   "mimetype": "text/x-python",
   "name": "python",
   "nbconvert_exporter": "python",
   "pygments_lexer": "ipython3",
   "version": "3.6.2"
  }
 },
 "nbformat": 4,
 "nbformat_minor": 1
}
