{
 "cells": [
  {
   "cell_type": "markdown",
   "metadata": {},
   "source": [
    "   <center><h1>This is a dev and test environment for EMD1.0</h1></center>"
   ]
  },
  {
   "cell_type": "code",
   "execution_count": 1,
   "metadata": {
    "collapsed": true
   },
   "outputs": [],
   "source": [
    "import os.path\n",
    "'''Responsible for Writing Customized NetLogo models for EMD'''\n",
    "class NetLogoWriter:\n",
    "    __original_model_path = \"\"\n",
    "    __rule_injected_model_path = \"\"\n",
    "    __EMD_line = -1000\n",
    "    \n",
    "    '''locate the NetLogo file, read it in, and identify the line to be experimented with as EMD_line.'''\n",
    "    def __init__(self, model_string):\n",
    "        self.__original_model_path = model_string\n",
    "        #find EMD entry point\n",
    "        with  open(self.__original_model_path, 'r') as file_reader:#should probably catch an exception here\n",
    "\n",
    "            for i, line in enumerate(file_reader):\n",
    "                if \";EMD:EvolveNextLine;\" in line:\n",
    "                    print(i)\n",
    "                    print(line)\n",
    "                    self.__EMD_line = i + 1\n",
    "                \n",
    "    '''if EMD annotation exists, then inject the new rule string'''\n",
    "    def injectNewRule (self, new_rule):\n",
    "        # with is like your try .. finally block in this case\n",
    "        with open(self.__original_model_path, 'r') as file:  #should probably catch an exception here\n",
    "            # read a list of lines into data\n",
    "            data = file.readlines()\n",
    "            file.close()\n",
    "        self.__rule_injected_model_path = self.__original_model_path[:-5] + new_rule + \".nlogo\"\n",
    "        if os.path.isfile(self.__rule_injected_model_path):\n",
    "            print(\"Model already injected with this rule. Using cached version.\")\n",
    "        else:\n",
    "            if self.__EMD_line >= 0:\n",
    "                print( \"Your line: \" + data[self.__EMD_line])\n",
    "                data[self.__EMD_line] = new_rule\n",
    "                # and write everything back\n",
    "                with open(self.__rule_injected_model_path, 'w') as file:\n",
    "                    file.writelines( data )\n",
    "                    file.flush()\n",
    "                    file.close()\n",
    "        return self.__rule_injected_model_path"
   ]
  },
  {
   "cell_type": "code",
   "execution_count": 2,
   "metadata": {
    "collapsed": true
   },
   "outputs": [],
   "source": [
    "import math \n",
    "import time\n",
    "def EvaluateABM(modelname, setupCommands ,metricCommands, stopConditions, ticksToRun = -1):\n",
    "    workspace = nl4py.netlogoWorkspaceFactory.newNetLogoHeadlessWorkspace()\n",
    "    workspace.openModel(modelname)\n",
    "    workspace.setParamsRandom()\n",
    "    for setupCommand in setupCommands:     \n",
    "        workspace.command(setupCommand)\n",
    "    #workspace.command(\"setup\")\n",
    "    stopConditions.insert(0,\"ticks\")\n",
    "    if ticksToRun < 0:\n",
    "        ticksToRun = math.pow(2,31)\n",
    "    workspace.scheduleReportersAndRun(stopConditions, 0,1,ticksToRun, \"go\")\n",
    "    runDone = False\n",
    "    metricResults = []\n",
    "    while(runDone == False):\n",
    "        time.sleep(0.5)\n",
    "        #try:\n",
    "        workspaceResults = workspace.getScheduledReporterResults()\n",
    "        if len(workspaceResults) > 0:\n",
    "            ticks = int(float(workspaceResults[-1][0]))\n",
    "            stopConditionResults = workspaceResults[-1][1:]\n",
    "            stop = False\n",
    "            for stopConditionResult in stopConditionResults:\n",
    "                if(str(stopConditionResult).lower() == \"true\"):\n",
    "                    stop = True\n",
    "                    break\n",
    "            if (ticks == ticksToRun) or stop:\n",
    "                for metricCommand in metricCommands:\n",
    "                    metricResults.append(workspace.report(metricCommand))\n",
    "                nl4py.netlogoWorkspaceFactory.getAllExistingWorkspaces().remove(workspace)\n",
    "                workspace.deleteWorkspace()\n",
    "                workspace = None\n",
    "                runDone = True \n",
    "        #except Exception as inst:\n",
    "            #print(type(inst))\n",
    "            #print(inst.args)\n",
    "            #print(inst)\n",
    "    return metricResults"
   ]
  },
  {
   "cell_type": "code",
   "execution_count": null,
   "metadata": {},
   "outputs": [],
   "source": [
    "import nl4py\n",
    "nl4py.startServer()\n",
    "bestError = 1000000000\n",
    "bestRule = \"\"\n",
    "rules = [\"one-of sheep-here\", \"nobody\", \"min-one-of sheep [energy]\", \"max-one-of sheep [energy]\"]\n",
    "nl4py.netlogoWorkspaceFactory.deleteAllExistingWorkspaces()\n",
    "for i in range(0,10):\n",
    "    for rule in rules:\n",
    "        modelPath = \"./models/Wolf Sheep Predation.nlogo\"\n",
    "        modelWriter = NetLogoWriter(modelPath)\n",
    "        modelPath = modelWriter.injectNewRule(rule)\n",
    "        setup = ['set model-version \"sheep-wolves-grass\"', 'setup']\n",
    "        measurementStrings = [\"count sheep\", \"count wolves\"]\n",
    "        stopConditionStrings = [\"not any? turtles\",\"not any? wolves and count sheep > max-sheep\"]\n",
    "        result = EvaluateABM(modelPath, setup, measurementStrings, stopConditionStrings,100)\n",
    "        aggregateMetric = abs(( int(float(result[0])) / (float(result[1]) + 0.0000001) ))\n",
    "        if aggregateMetric < bestError:\n",
    "            bestError = aggregateMetric\n",
    "            bestRule = rule"
   ]
  },
  {
   "cell_type": "code",
   "execution_count": 104,
   "metadata": {},
   "outputs": [
    {
     "name": "stderr",
     "output_type": "stream",
     "text": [
      "C:\\Users\\ch328575\\AppData\\Local\\Continuum\\Anaconda2\\envs\\Python3\\lib\\site-packages\\deap\\creator.py:141: RuntimeWarning: A class named 'FitnessMin' has already been created and it will be overwritten. Consider deleting previous creation of that class or rename it.\n",
      "  RuntimeWarning)\n",
      "C:\\Users\\ch328575\\AppData\\Local\\Continuum\\Anaconda2\\envs\\Python3\\lib\\site-packages\\deap\\creator.py:141: RuntimeWarning: A class named 'Individual' has already been created and it will be overwritten. Consider deleting previous creation of that class or rename it.\n",
      "  RuntimeWarning)\n"
     ]
    }
   ],
   "source": [
    "from deap import gp\n",
    "from deap import creator\n",
    "from deap import base\n",
    "from deap import tools\n",
    "\n",
    "class nlMinOneOf:\n",
    "    __nlString = \"\"\n",
    "    \n",
    "    def __init__(self,comparator, agent_set):\n",
    "            self.__nlString = \" min-one-of ( \" + str(comparator) + \" ) [ \" +  str(agent_set) + \" ] \"\n",
    "    def __str__(self):\n",
    "        return self.__nlString\n",
    "    def __repr__(self):\n",
    "        return self.__str__()\n",
    "class nlComparator:\n",
    "    __nlString = \"\"\n",
    "    def __init__(self,nlString):\n",
    "        self.__nlString = nlString\n",
    "    def __str__(self):\n",
    "        return \"nlComparator\"#self.__nlString\n",
    "    def __repr__(self):\n",
    "        return self.__str__()\n",
    "class nlAgentSet:\n",
    "    __nlString = \"\"\n",
    "    def __init__(self,nlString):\n",
    "        self.__nlString = nlString\n",
    "    def __str__(self):\n",
    "        return \"nlAgentSet\"#self.__nlString\n",
    "    def __repr__(self):\n",
    "        return self.__str__()\n",
    "class nlAgent:\n",
    "    __nlString = \"nobody\"\n",
    "    def __init__(self,nlString):\n",
    "        self.__nlString = nlString\n",
    "    def __str__(self):\n",
    "        return \"nlAgent\" #self.__nlString\n",
    "    def __repr__(self):\n",
    "        return self.__str__()\n",
    "\n",
    "pset = gp.PrimitiveSetTyped(\"main\", [], nlAgent)\n",
    "#pset.addPrimitive(operator.xor, [bool, bool], bool)\n",
    "#pset.addPrimitive(operator.mul, [float, float], float)\n",
    "#pset.addPrimitive(if_then_else, [bool, float, float], float)\n",
    "pset.addPrimitive(nlMinOneOf, [nlComparator, nlAgentSet], nlAgent)\n",
    "agent_sets = [\"sheep\",\"wolves\",\"turtles\"]\n",
    "for agent_set in agent_sets:\n",
    "    pset.addTerminal(agent_set, nlAgentSet, name = agent_set)\n",
    "comparator_str_set = [\"energy\", \"distance\"]\n",
    "for comparator_str in comparator_str_set:\n",
    "    pset.addTerminal(comparator_str,nlComparator, name = comparator_str)\n",
    "\n",
    "creator.create(\"FitnessMin\", base.Fitness, weights=(-1.0,))\n",
    "creator.create(\"Individual\", gp.PrimitiveTree, fitness=creator.FitnessMin,pset=pset)\n",
    "toolbox = base.Toolbox()\n",
    "toolbox.register(\"expr\", gp.genFull, pset=pset, min_=1, max_=3)\n",
    "toolbox.register(\"individual\", tools.initIterate, creator.Individual, toolbox.expr)\n"
   ]
  },
  {
   "cell_type": "code",
   "execution_count": 102,
   "metadata": {},
   "outputs": [
    {
     "name": "stdout",
     "output_type": "stream",
     "text": [
      "nlMinOneOf(distance, wolves)\n"
     ]
    }
   ],
   "source": [
    "expr = gp.genGrow(pset, min_=1, max_=3, type_=nlAgent)\n",
    "tree = gp.PrimitiveTree(expr)\n",
    "print(str(tree))"
   ]
  },
  {
   "cell_type": "code",
   "execution_count": 103,
   "metadata": {},
   "outputs": [
    {
     "ename": "TypeError",
     "evalue": "__repr__ returned non-string (type int)",
     "output_type": "error",
     "traceback": [
      "\u001b[1;31m---------------------------------------------------------------------------\u001b[0m",
      "\u001b[1;31mTypeError\u001b[0m                                 Traceback (most recent call last)",
      "\u001b[1;32m~\\AppData\\Local\\Continuum\\Anaconda2\\envs\\Python3\\lib\\site-packages\\IPython\\core\\formatters.py\u001b[0m in \u001b[0;36m__call__\u001b[1;34m(self, obj)\u001b[0m\n\u001b[0;32m    691\u001b[0m                 \u001b[0mtype_pprinters\u001b[0m\u001b[1;33m=\u001b[0m\u001b[0mself\u001b[0m\u001b[1;33m.\u001b[0m\u001b[0mtype_printers\u001b[0m\u001b[1;33m,\u001b[0m\u001b[1;33m\u001b[0m\u001b[0m\n\u001b[0;32m    692\u001b[0m                 deferred_pprinters=self.deferred_printers)\n\u001b[1;32m--> 693\u001b[1;33m             \u001b[0mprinter\u001b[0m\u001b[1;33m.\u001b[0m\u001b[0mpretty\u001b[0m\u001b[1;33m(\u001b[0m\u001b[0mobj\u001b[0m\u001b[1;33m)\u001b[0m\u001b[1;33m\u001b[0m\u001b[0m\n\u001b[0m\u001b[0;32m    694\u001b[0m             \u001b[0mprinter\u001b[0m\u001b[1;33m.\u001b[0m\u001b[0mflush\u001b[0m\u001b[1;33m(\u001b[0m\u001b[1;33m)\u001b[0m\u001b[1;33m\u001b[0m\u001b[0m\n\u001b[0;32m    695\u001b[0m             \u001b[1;32mreturn\u001b[0m \u001b[0mstream\u001b[0m\u001b[1;33m.\u001b[0m\u001b[0mgetvalue\u001b[0m\u001b[1;33m(\u001b[0m\u001b[1;33m)\u001b[0m\u001b[1;33m\u001b[0m\u001b[0m\n",
      "\u001b[1;32m~\\AppData\\Local\\Continuum\\Anaconda2\\envs\\Python3\\lib\\site-packages\\IPython\\lib\\pretty.py\u001b[0m in \u001b[0;36mpretty\u001b[1;34m(self, obj)\u001b[0m\n\u001b[0;32m    378\u001b[0m                             \u001b[1;32mif\u001b[0m \u001b[0mcallable\u001b[0m\u001b[1;33m(\u001b[0m\u001b[0mmeth\u001b[0m\u001b[1;33m)\u001b[0m\u001b[1;33m:\u001b[0m\u001b[1;33m\u001b[0m\u001b[0m\n\u001b[0;32m    379\u001b[0m                                 \u001b[1;32mreturn\u001b[0m \u001b[0mmeth\u001b[0m\u001b[1;33m(\u001b[0m\u001b[0mobj\u001b[0m\u001b[1;33m,\u001b[0m \u001b[0mself\u001b[0m\u001b[1;33m,\u001b[0m \u001b[0mcycle\u001b[0m\u001b[1;33m)\u001b[0m\u001b[1;33m\u001b[0m\u001b[0m\n\u001b[1;32m--> 380\u001b[1;33m             \u001b[1;32mreturn\u001b[0m \u001b[0m_default_pprint\u001b[0m\u001b[1;33m(\u001b[0m\u001b[0mobj\u001b[0m\u001b[1;33m,\u001b[0m \u001b[0mself\u001b[0m\u001b[1;33m,\u001b[0m \u001b[0mcycle\u001b[0m\u001b[1;33m)\u001b[0m\u001b[1;33m\u001b[0m\u001b[0m\n\u001b[0m\u001b[0;32m    381\u001b[0m         \u001b[1;32mfinally\u001b[0m\u001b[1;33m:\u001b[0m\u001b[1;33m\u001b[0m\u001b[0m\n\u001b[0;32m    382\u001b[0m             \u001b[0mself\u001b[0m\u001b[1;33m.\u001b[0m\u001b[0mend_group\u001b[0m\u001b[1;33m(\u001b[0m\u001b[1;33m)\u001b[0m\u001b[1;33m\u001b[0m\u001b[0m\n",
      "\u001b[1;32m~\\AppData\\Local\\Continuum\\Anaconda2\\envs\\Python3\\lib\\site-packages\\IPython\\lib\\pretty.py\u001b[0m in \u001b[0;36m_default_pprint\u001b[1;34m(obj, p, cycle)\u001b[0m\n\u001b[0;32m    493\u001b[0m     \u001b[1;32mif\u001b[0m \u001b[0m_safe_getattr\u001b[0m\u001b[1;33m(\u001b[0m\u001b[0mklass\u001b[0m\u001b[1;33m,\u001b[0m \u001b[1;34m'__repr__'\u001b[0m\u001b[1;33m,\u001b[0m \u001b[1;32mNone\u001b[0m\u001b[1;33m)\u001b[0m \u001b[1;32mis\u001b[0m \u001b[1;32mnot\u001b[0m \u001b[0mobject\u001b[0m\u001b[1;33m.\u001b[0m\u001b[0m__repr__\u001b[0m\u001b[1;33m:\u001b[0m\u001b[1;33m\u001b[0m\u001b[0m\n\u001b[0;32m    494\u001b[0m         \u001b[1;31m# A user-provided repr. Find newlines and replace them with p.break_()\u001b[0m\u001b[1;33m\u001b[0m\u001b[1;33m\u001b[0m\u001b[0m\n\u001b[1;32m--> 495\u001b[1;33m         \u001b[0m_repr_pprint\u001b[0m\u001b[1;33m(\u001b[0m\u001b[0mobj\u001b[0m\u001b[1;33m,\u001b[0m \u001b[0mp\u001b[0m\u001b[1;33m,\u001b[0m \u001b[0mcycle\u001b[0m\u001b[1;33m)\u001b[0m\u001b[1;33m\u001b[0m\u001b[0m\n\u001b[0m\u001b[0;32m    496\u001b[0m         \u001b[1;32mreturn\u001b[0m\u001b[1;33m\u001b[0m\u001b[0m\n\u001b[0;32m    497\u001b[0m     \u001b[0mp\u001b[0m\u001b[1;33m.\u001b[0m\u001b[0mbegin_group\u001b[0m\u001b[1;33m(\u001b[0m\u001b[1;36m1\u001b[0m\u001b[1;33m,\u001b[0m \u001b[1;34m'<'\u001b[0m\u001b[1;33m)\u001b[0m\u001b[1;33m\u001b[0m\u001b[0m\n",
      "\u001b[1;32m~\\AppData\\Local\\Continuum\\Anaconda2\\envs\\Python3\\lib\\site-packages\\IPython\\lib\\pretty.py\u001b[0m in \u001b[0;36m_repr_pprint\u001b[1;34m(obj, p, cycle)\u001b[0m\n\u001b[0;32m    691\u001b[0m     \u001b[1;34m\"\"\"A pprint that just redirects to the normal repr function.\"\"\"\u001b[0m\u001b[1;33m\u001b[0m\u001b[0m\n\u001b[0;32m    692\u001b[0m     \u001b[1;31m# Find newlines and replace them with p.break_()\u001b[0m\u001b[1;33m\u001b[0m\u001b[1;33m\u001b[0m\u001b[0m\n\u001b[1;32m--> 693\u001b[1;33m     \u001b[0moutput\u001b[0m \u001b[1;33m=\u001b[0m \u001b[0mrepr\u001b[0m\u001b[1;33m(\u001b[0m\u001b[0mobj\u001b[0m\u001b[1;33m)\u001b[0m\u001b[1;33m\u001b[0m\u001b[0m\n\u001b[0m\u001b[0;32m    694\u001b[0m     \u001b[1;32mfor\u001b[0m \u001b[0midx\u001b[0m\u001b[1;33m,\u001b[0m\u001b[0moutput_line\u001b[0m \u001b[1;32min\u001b[0m \u001b[0menumerate\u001b[0m\u001b[1;33m(\u001b[0m\u001b[0moutput\u001b[0m\u001b[1;33m.\u001b[0m\u001b[0msplitlines\u001b[0m\u001b[1;33m(\u001b[0m\u001b[1;33m)\u001b[0m\u001b[1;33m)\u001b[0m\u001b[1;33m:\u001b[0m\u001b[1;33m\u001b[0m\u001b[0m\n\u001b[0;32m    695\u001b[0m         \u001b[1;32mif\u001b[0m \u001b[0midx\u001b[0m\u001b[1;33m:\u001b[0m\u001b[1;33m\u001b[0m\u001b[0m\n",
      "\u001b[1;31mTypeError\u001b[0m: __repr__ returned non-string (type int)"
     ]
    }
   ],
   "source": [
    "gp.compile(tree, pset)\n"
   ]
  },
  {
   "cell_type": "code",
   "execution_count": null,
   "metadata": {
    "collapsed": true
   },
   "outputs": [],
   "source": [
    "'''The ABM with all its flexibility as EMD sees it'''\n",
    "'''EMD can use this class to control, set parameters, query results from'''\n",
    "'''and most importantly, change rules within the NetLogo model specified'''\n",
    "class ABM_NetLogo:\n",
    "    path_to_model = \"\"\n",
    "    model_as_text = \"\"\n",
    "    parameters = []\n",
    "    __nlogo_writer = None \n",
    "    def __init__(self, path_to_model):\n",
    "        self.path_to_model = path_to_model\n",
    "        __nlogo_writer = NetLogo_Writer(path_to_model)\n",
    "        #Read in the model to memory (instead of repeated disk reads)\n",
    "        print()\n",
    "    def inject_new_rule(self, new_rule):\n",
    "        #locate tag comment\n",
    "        __nlogo_writer.injectNewRule(new_rule)\n",
    "        #Replace line under tag with new_rule\n",
    "        \n",
    "        #Write model \n",
    "        \n",
    "        #Flush, close\n",
    "        print()\n",
    "    def set_parameters(self, parameter_values):\n",
    "        print()\n",
    "    def get_parameter_names(self):\n",
    "        #Return parameter names\n",
    "        print()\n",
    "    def run_abm(self):\n",
    "        #Run the ABM\n",
    "        print()\n",
    "\n",
    "\n",
    "class EMD_Individual:\n",
    "    def __init__(self):\n",
    "        print()\n",
    "    "
   ]
  }
 ],
 "metadata": {
  "kernelspec": {
   "display_name": "Python 3",
   "language": "python",
   "name": "python3"
  },
  "language_info": {
   "codemirror_mode": {
    "name": "ipython",
    "version": 3
   },
   "file_extension": ".py",
   "mimetype": "text/x-python",
   "name": "python",
   "nbconvert_exporter": "python",
   "pygments_lexer": "ipython3",
   "version": "3.6.2"
  }
 },
 "nbformat": 4,
 "nbformat_minor": 2
}
