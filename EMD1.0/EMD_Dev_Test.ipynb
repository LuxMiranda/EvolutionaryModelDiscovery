{
 "cells": [
  {
   "cell_type": "markdown",
   "metadata": {},
   "source": [
    "   <center><h1>This is a dev and test environment for EMD1.0</h1></center>"
   ]
  },
  {
   "cell_type": "code",
   "execution_count": 57,
   "metadata": {},
   "outputs": [
    {
     "name": "stdout",
     "output_type": "stream",
     "text": [
      "Requirement already satisfied: py4j in c:\\users\\ch328575\\appdata\\local\\continuum\\anaconda2\\lib\\site-packages\n"
     ]
    },
    {
     "name": "stderr",
     "output_type": "stream",
     "text": [
      "You are using pip version 9.0.1, however version 9.0.3 is available.\n",
      "You should consider upgrading via the 'python -m pip install --upgrade pip' command.\n"
     ]
    }
   ],
   "source": [
    "!pip install py4j\n",
    "import py4j.java_gateway as jg\n",
    "from py4j.java_gateway import JavaGateway\n",
    "import subprocess\n",
    "import threading\n",
    "import os\n",
    "import uuid\n",
    "##############################################################################\n",
    "'''Responsible for starting and stopping the NetLogo Controller Server'''\n",
    "class NetLogo_Controller_Server_Starter:\n",
    "    \n",
    "    __gw = JavaGateway()# New gateway connection \n",
    "    ##server is in netlogo app folder\n",
    "    __server_name = \"C:/Program Files/NetLogo 6.0.2/app/NetLogoControllerServer.jar\"\n",
    "    \n",
    "    '''Internal method to start JavaGateway server. Will be called by starServer on seperate thread'''\n",
    "    def __runServer(self): \n",
    "        env = dict(os.environ)\n",
    "        env['JAVA_OPTS'] = ''\n",
    "        print(subprocess.call(['java', '-jar', self.__server_name]))\n",
    "    \n",
    "    '''Starts JavaGateway server'''\n",
    "    def startServer(self):\n",
    "        #Fire up the NetLogo Controller server through python\n",
    "        thread = threading.Thread(target=self.__runServer, args=())\n",
    "        thread.start()\n",
    "        \n",
    "    '''Send shutdown signal to the JavaGateway server. No further communication is possible unless server is restarted'''\n",
    "    def shutdownServer(self, gw):\n",
    "        self.__gw.shutdown(True)\n",
    "##############################################################################"
   ]
  },
  {
   "cell_type": "code",
   "execution_count": 74,
   "metadata": {},
   "outputs": [],
   "source": [
    "'''Responsible for communicating with the NetLogo controller, a Java executable'''\n",
    "class NetLogo_Controller_Client:\n",
    "    __bridge = None\n",
    "    __gateway = JavaGateway()# New gateway connection \n",
    "    __session = None\n",
    "    def __init__(self):\n",
    "        self.__bridge = self.__gateway.entry_point\n",
    "    \n",
    "    '''Start up the model and run. Returns a single metric'''\n",
    "    def run_model(self,model_string, steps, metric):\n",
    "        \n",
    "        \n",
    "        session = self.__bridge.openModel(model_string)\n",
    "        self.setParamsRandom(session, model_string)\n",
    "        self.__bridge.command(session, \"setup\")\n",
    "        self.__bridge.command(session, \"repeat \" + str(steps) + \" [go]\")\n",
    "        result = self.__bridge.report(session, str(metric))\n",
    "        self.__bridge.closeModel(session)#self.__bridge.refresh()\n",
    "        return result\n",
    "    \n",
    "    \n",
    "    \n",
    "    '''Sets the parameters randomly through the JavaGateway'''\n",
    "    def setParamsRandom(self, session, model_string):\n",
    "        paramSpecs = self.__bridge.getParamList(session, model_string).getParamSpecs()\n",
    "\n",
    "        for paramSpec in paramSpecs:\n",
    "            if jg.is_instance_of(self.__gateway,paramSpec,\"bsearch.space.DoubleDiscreteSpec\"):\n",
    "                paramValue = paramSpec.generateRandomValue(self.__gateway.jvm.org.nlogo.api.MersenneTwisterFast())\n",
    "            if jg.is_instance_of(self.__gateway,paramSpec,\"bsearch.space.DoubleContinuousSpec\"):\n",
    "                paramValue = paramSpec.generateRandomValue(self.__gateway.jvm.org.nlogo.api.MersenneTwisterFast())\n",
    "            if jg.is_instance_of(self.__gateway,paramSpec,\"bsearch.space.CategoricalSpec\"):\n",
    "                paramValue = paramSpec.generateRandomValue(self.__gateway.jvm.org.nlogo.api.MersenneTwisterFast())\n",
    "                if type(paramValue) != bool:#isinstance(data[i][k], bool)\n",
    "                    paramValue = '\"{}\"'.format(paramSpec.generateRandomValue(self.__gateway.jvm.org.nlogo.api.MersenneTwisterFast()))\n",
    "            if jg.is_instance_of(self.__gateway,paramSpec,\"bsearch.space.ConstantSpec\"):\n",
    "                paramValue = paramSpec.generateRandomValue(self.__gateway.jvm.org.nlogo.api.MersenneTwisterFast())\n",
    "            print(\"set \" + str(paramSpec.getParameterName()) + \" \" + str(paramValue))\n",
    "            self.__bridge.command(session, \"set \" + str(paramSpec.getParameterName()) + \" \" + str(paramValue))\n",
    "        self.__bridge.command(session, \"set \" + str(paramSpec.getParameterName()) + \" \" + str(paramValue))\n",
    "        self.__bridge.command(session, \"set historic-view? true\" )\n",
    "    \n",
    "    '''Returns the Parameter Specification of the NetLogo Model'''\n",
    "    def getParamSpecs(self):\n",
    "        return self.__bridge.getParamList(session, model_string).getParamSpecs()\n",
    "##############################################################################\n",
    "'''Responsible for Writing Customized NetLogo models for EMD'''\n",
    "class NetLogo_Writer:\n",
    "    __original_model_path = \"\"\n",
    "    __rule_injected_model_path = \"\"\n",
    "    EMD_line = -1000\n",
    "    \n",
    "    '''locate the NetLogo file, read it in, and identify the line to be experimented with as EMD_line.'''\n",
    "    def __init__(self, model_string):\n",
    "        __original_model_path = model_string\n",
    "        #find EMD entry point\n",
    "        with  open(__original_model_path, 'r') as file_reader:#should probably catch an exception here\n",
    "\n",
    "            for i, line in enumerate(file_reader):\n",
    "                if \";;insert evolutionary code here\" in line:\n",
    "                    print(i)\n",
    "                    print(line)\n",
    "                    EMD_line = i + 1\n",
    "                \n",
    "    '''if EMD annotation exists, then inject the new rule string'''\n",
    "    def injectNewRule (self, new_rule):\n",
    "        # with is like your try .. finally block in this case\n",
    "        with open(__original_model_path, 'r') as file:  #should probably catch an exception here\n",
    "            # read a list of lines into data\n",
    "            data = file.readlines()\n",
    "            file.close()\n",
    "        __rule_injected_model_path\n",
    "        if EMD_line >= 0:\n",
    "            print( \"Your line: \" + data[EMD_line])\n",
    "            data[EMD_line] = new_rule\n",
    "            print(data)\n",
    "            # and write everything back\n",
    "            with open(__rule_injected_model_path, 'w') as file:\n",
    "                file.writelines( data )\n",
    "                file.flush()\n",
    "                file.close()"
   ]
  },
  {
   "cell_type": "code",
   "execution_count": 59,
   "metadata": {
    "collapsed": true
   },
   "outputs": [],
   "source": [
    "'''The ABM with all its flexibility as EMD sees it'''\n",
    "'''EMD can use this class to control, set parameters, query results from'''\n",
    "'''and most importantly, change rules within the NetLogo model specified'''\n",
    "class ABM_NetLogo:\n",
    "    path_to_model = \"\"\n",
    "    model_as_text = \"\"\n",
    "    parameters = []\n",
    "    __nlogo_writer = None \n",
    "    def __init__(self, path_to_model):\n",
    "        self.path_to_model = path_to_model\n",
    "        __nlogo_writer = NetLogo_Writer(path_to_model)\n",
    "        #Read in the model to memory (instead of repeated disk reads)\n",
    "        print()\n",
    "    def inject_new_rule(self, new_rule):\n",
    "        #locate tag comment\n",
    "        __nlogo_writer.injectNewRule(new_rule)\n",
    "        #Replace line under tag with new_rule\n",
    "        \n",
    "        #Write model \n",
    "        \n",
    "        #Flush, close\n",
    "        print()\n",
    "    def set_parameters(self, parameter_values):\n",
    "        print()\n",
    "    def get_parameter_names(self):\n",
    "        #Return parameter names\n",
    "        print()\n",
    "    def run_abm(self):\n",
    "        #Run the ABM\n",
    "        print()\n",
    "\n",
    "\n",
    "class EMD_Individual:\n",
    "    def __init__(self):\n",
    "        print()\n",
    "    "
   ]
  },
  {
   "cell_type": "code",
   "execution_count": 45,
   "metadata": {},
   "outputs": [],
   "source": [
    "#You can use this to start the server too... or just start it manually by running the controller jar and skip this\n",
    "n = NetLogo_Controller_Server_Starter()\n",
    "n.startServer()"
   ]
  },
  {
   "cell_type": "code",
   "execution_count": 53,
   "metadata": {},
   "outputs": [
    {
     "name": "stdout",
     "output_type": "stream",
     "text": [
      " 259\n",
      "    ;;insert evolutionary code here\n",
      "\n",
      "()\n"
     ]
    },
    {
     "data": {
      "text/plain": [
       "<__main__.ABM_NetLogo instance at 0x0000000006226B08>"
      ]
     },
     "execution_count": 53,
     "metadata": {},
     "output_type": "execute_result"
    }
   ],
   "source": [
    "modelpath = \"./models/ArtificialAnasazi/Artificial Anasazi Ver 6.nlogo\"\n",
    "ABM_NetLogo(modelpath)"
   ]
  },
  {
   "cell_type": "code",
   "execution_count": 77,
   "metadata": {},
   "outputs": [
    {
     "name": "stdout",
     "output_type": "stream",
     "text": [
      "set map-view \"zones\"\n",
      "set harvest-variance 0.71\n",
      "set death-age 40.0\n",
      "set fertility-ends-age 30.0\n",
      "set fertility 0.0103198368711\n",
      "set historic-view? True\n",
      "set harvest-adjustment 0.93\n",
      "set base-nutrition-need 109.0\n",
      "set min-death-age 44.0\n",
      "set death-age-span 68.0\n",
      "set min-fertility-ends-age 59.0\n",
      "set fertility-ends-age-span 88.0\n",
      "set min-fertility 21.9044408597\n",
      "set fertility-span 0.9\n",
      "set maize-gift-to-child 0.9\n",
      "set water-source-distance 3.0\n"
     ]
    },
    {
     "data": {
      "text/plain": [
       "652.0"
      ]
     },
     "execution_count": 77,
     "metadata": {},
     "output_type": "execute_result"
    }
   ],
   "source": [
    "n = NetLogo_Controller_Client()\n",
    "n.run_model(\"C:\\Users\\ch328575\\Documents\\Projects\\EMD\\EMD1.0\\models\\ArtificialAnasazi\\Artificial Anasazi Ver 6.nlogo\", 200, \"count households\")"
   ]
  },
  {
   "cell_type": "code",
   "execution_count": null,
   "metadata": {},
   "outputs": [],
   "source": []
  },
  {
   "cell_type": "code",
   "execution_count": null,
   "metadata": {
    "collapsed": true
   },
   "outputs": [],
   "source": []
  },
  {
   "cell_type": "code",
   "execution_count": null,
   "metadata": {
    "collapsed": true
   },
   "outputs": [],
   "source": []
  }
 ],
 "metadata": {
  "kernelspec": {
   "display_name": "Python 2",
   "language": "python",
   "name": "python2"
  },
  "language_info": {
   "codemirror_mode": {
    "name": "ipython",
    "version": 2
   },
   "file_extension": ".py",
   "mimetype": "text/x-python",
   "name": "python",
   "nbconvert_exporter": "python",
   "pygments_lexer": "ipython2",
   "version": "2.7.13"
  }
 },
 "nbformat": 4,
 "nbformat_minor": 2
}
