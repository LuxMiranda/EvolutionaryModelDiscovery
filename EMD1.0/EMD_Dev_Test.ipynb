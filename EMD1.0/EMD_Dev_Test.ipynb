{
 "cells": [
  {
   "cell_type": "markdown",
   "metadata": {},
   "source": [
    "   <center><h1>This is a dev and test environment for EMD1.0</h1></center>"
   ]
  },
  {
   "cell_type": "code",
   "execution_count": null,
   "metadata": {
    "collapsed": true
   },
   "outputs": [],
   "source": [
    "!pip install py4j\n",
    "import py4j.java_gateway as jg\n",
    "from py4j.java_gateway import JavaGateway\n",
    "class NetLogo_EMD_Controller_Connector:\n",
    "    gw = None    \n",
    "    gw = JavaGateway()# New gateway connection \n",
    "    \n",
    "    ###Internal method to start JavaGateway server###\n",
    "    def __runServer(): \n",
    "        env = dict(os.environ)\n",
    "        env['JAVA_OPTS'] = ''\n",
    "        print(subprocess.call([\"C:/Users/ch328575/Documents/Projects/EMD/EMD1.0/bin/startserver.bat\"], env=env))\n",
    "    ###Internal method to start JavaGateway server###\n",
    "    def startServer():\n",
    "        #Fire up the NetLogo Controller server through python\n",
    "        thread = threading.Thread(target=__runServer, args=())\n",
    "        thread.start()\n",
    "    \n",
    "    def run_model(model_string, steps, metric):\n",
    "        bridge = gw.entry_point\n",
    "        bridge.refresh()\n",
    "        print(bridge.openModel(model_string))\n",
    "        setParamsRandom(gw,bridge, model_string)\n",
    "        bridge.command(\"setup\")\n",
    "        bridge.command(\"repeat \" + str(steps) + \" [go]\")\n",
    "        result = bridge.report(str(metric))\n",
    "        bridge.closeModel()\n",
    "        return result\n",
    "\n",
    "    def disconnect():\n",
    "        gw.shutdown(True)\n",
    "    \n",
    "        \n",
    "    def setParamsRandom(gateway, bridge, model_string):\n",
    "        paramSpecs = bridge.getParamList(model_string).getParamSpecs()\n",
    "\n",
    "        for paramSpec in paramSpecs:\n",
    "            if jg.is_instance_of(gateway,paramSpec,\"bsearch.space.DoubleDiscreteSpec\"):\n",
    "                paramValue = paramSpec.generateRandomValue(gateway.jvm.org.nlogo.api.MersenneTwisterFast())\n",
    "            if jg.is_instance_of(gateway,paramSpec,\"bsearch.space.DoubleContinuousSpec\"):\n",
    "                paramValue = paramSpec.generateRandomValue(gateway.jvm.org.nlogo.api.MersenneTwisterFast())\n",
    "            if jg.is_instance_of(gateway,paramSpec,\"bsearch.space.CategoricalSpec\"):\n",
    "                paramValue = paramSpec.generateRandomValue(gateway.jvm.org.nlogo.api.MersenneTwisterFast())\n",
    "                if type(paramValue) != bool:#isinstance(data[i][k], bool)\n",
    "                    paramValue = '\"{}\"'.format(paramSpec.generateRandomValue(gateway.jvm.org.nlogo.api.MersenneTwisterFast()))\n",
    "            if jg.is_instance_of(gateway,paramSpec,\"bsearch.space.ConstantSpec\"):\n",
    "                paramValue = paramSpec.generateRandomValue(gateway.jvm.org.nlogo.api.MersenneTwisterFast())\n",
    "            print(\"set \" + str(paramSpec.getParameterName()) + \" \" + str(paramValue))\n",
    "            bridge.command(\"set \" + str(paramSpec.getParameterName()) + \" \" + str(paramValue))\n",
    "        bridge.command(\"set \" + str(paramSpec.getParameterName()) + \" \" + str(paramValue))\n",
    "        bridge.command(\"set historic-view? true\" )"
   ]
  }
 ],
 "metadata": {
  "kernelspec": {
   "display_name": "Python 3",
   "language": "python",
   "name": "python3"
  },
  "language_info": {
   "codemirror_mode": {
    "name": "ipython",
    "version": 3
   },
   "file_extension": ".py",
   "mimetype": "text/x-python",
   "name": "python",
   "nbconvert_exporter": "python",
   "pygments_lexer": "ipython3",
   "version": "3.6.2"
  }
 },
 "nbformat": 4,
 "nbformat_minor": 2
}
