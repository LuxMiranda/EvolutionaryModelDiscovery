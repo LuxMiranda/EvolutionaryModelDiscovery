{
 "cells": [
  {
   "cell_type": "markdown",
   "metadata": {},
   "source": [
    "   <center><h1>This is a dev and test environment for EMD1.0</h1></center>"
   ]
  },
  {
   "cell_type": "code",
   "execution_count": 31,
   "metadata": {},
   "outputs": [
    {
     "name": "stdout",
     "output_type": "stream",
     "text": [
      "Requirement already satisfied: py4j in c:\\users\\ch328575\\appdata\\local\\continuum\\anaconda2\\lib\\site-packages\n"
     ]
    },
    {
     "name": "stderr",
     "output_type": "stream",
     "text": [
      "You are using pip version 9.0.1, however version 9.0.3 is available.\n",
      "You should consider upgrading via the 'python -m pip install --upgrade pip' command.\n"
     ]
    }
   ],
   "source": [
    "!pip install py4j\n",
    "import py4j.java_gateway as jg\n",
    "from py4j.java_gateway import JavaGateway\n",
    "import subprocess\n",
    "import threading\n",
    "import os\n",
    "'''Responsible for communicating with the NetLogo controller server, a Java executable'''\n",
    "class NetLogo_Controller_Connector:\n",
    "    __gw = JavaGateway()# New gateway connection \n",
    "    ##server is in netlogo app folder\n",
    "    __server_name = \"C:/Program Files/NetLogo 6.0.2/app/NetLogoControllerServer.jar\"\n",
    "    \n",
    "    '''Internal method to start JavaGateway server. Will be called by starServer on seperate thread'''\n",
    "    def __runServer(self): \n",
    "        env = dict(os.environ)\n",
    "        env['JAVA_OPTS'] = ''\n",
    "        print(subprocess.call(['java', '-jar', self.__server_name]))\n",
    "    \n",
    "    '''Starts JavaGateway server'''\n",
    "    def startServer(self):\n",
    "        #Fire up the NetLogo Controller server through python\n",
    "        thread = threading.Thread(target=self.__runServer, args=())\n",
    "        thread.start()\n",
    "    \n",
    "    '''Start up the model and run. Returns a single metric'''\n",
    "    def run_model(self,model_string, steps, metric):\n",
    "        bridge = self.__gw.entry_point\n",
    "        bridge.refresh()\n",
    "        print(bridge.openModel(model_string))\n",
    "        setParamsRandom(self.__gw,bridge, model_string)\n",
    "        bridge.command(\"setup\")\n",
    "        bridge.command(\"repeat \" + str(steps) + \" [go]\")\n",
    "        result = bridge.report(str(metric))\n",
    "        bridge.closeModel()\n",
    "        return result\n",
    "    \n",
    "    '''Send shutdown signal to the JavaGateway server. No further communication is possible unless server is restarted'''\n",
    "    def shutdownServer(self):\n",
    "        gw.shutdown(True)\n",
    "    \n",
    "    '''Sets the parameters randomly through the JavaGateway'''\n",
    "    def setParamsRandom(self, gateway, bridge, model_string):\n",
    "        paramSpecs = bridge.getParamList(model_string).getParamSpecs()\n",
    "\n",
    "        for paramSpec in paramSpecs:\n",
    "            if jg.is_instance_of(gateway,paramSpec,\"bsearch.space.DoubleDiscreteSpec\"):\n",
    "                paramValue = paramSpec.generateRandomValue(gateway.jvm.org.nlogo.api.MersenneTwisterFast())\n",
    "            if jg.is_instance_of(gateway,paramSpec,\"bsearch.space.DoubleContinuousSpec\"):\n",
    "                paramValue = paramSpec.generateRandomValue(gateway.jvm.org.nlogo.api.MersenneTwisterFast())\n",
    "            if jg.is_instance_of(gateway,paramSpec,\"bsearch.space.CategoricalSpec\"):\n",
    "                paramValue = paramSpec.generateRandomValue(gateway.jvm.org.nlogo.api.MersenneTwisterFast())\n",
    "                if type(paramValue) != bool:#isinstance(data[i][k], bool)\n",
    "                    paramValue = '\"{}\"'.format(paramSpec.generateRandomValue(gateway.jvm.org.nlogo.api.MersenneTwisterFast()))\n",
    "            if jg.is_instance_of(gateway,paramSpec,\"bsearch.space.ConstantSpec\"):\n",
    "                paramValue = paramSpec.generateRandomValue(gateway.jvm.org.nlogo.api.MersenneTwisterFast())\n",
    "            print(\"set \" + str(paramSpec.getParameterName()) + \" \" + str(paramValue))\n",
    "            bridge.command(\"set \" + str(paramSpec.getParameterName()) + \" \" + str(paramValue))\n",
    "        bridge.command(\"set \" + str(paramSpec.getParameterName()) + \" \" + str(paramValue))\n",
    "        bridge.command(\"set historic-view? true\" )\n",
    "    \n",
    "    '''Returns the Parameter Specification of the NetLogo Model'''\n",
    "    def getParamSpecs(self):\n",
    "        return bridge.getParamList(model_string).getParamSpecs()\n",
    "\n",
    "'''Responsible for Writing Customized NetLogo models for EMD'''\n",
    "class NetLogo_Writer:\n",
    "    __model_string = \"\"\n",
    "    EMD_line = -1000\n",
    "    \n",
    "    '''locate the NetLogo file, read it in, and identify the line to be experimented with as EMD_line.'''\n",
    "    def __init__(self, model_string):\n",
    "        __model_string = model_string\n",
    "        #find EMD entry point\n",
    "        with  open(model_string, 'r') as file_reader:#should probably catch an exception here\n",
    "\n",
    "            for i, line in enumerate(file_reader):\n",
    "                if \";;insert evolutionary code here\" in line:\n",
    "                    print(i)\n",
    "                    print(line)\n",
    "                    EMD_line = i + 1\n",
    "                \n",
    "    '''if EMD annotation exists, then inject the new rule string'''\n",
    "    def injectNewRule (self, new_rule):\n",
    "        # with is like your try .. finally block in this case\n",
    "        with open(model_string, 'r') as file:  #should probably catch an exception here\n",
    "            # read a list of lines into data\n",
    "            data = file.readlines()\n",
    "            file.close()\n",
    "\n",
    "        if EMD_line >= 0:\n",
    "            print( \"Your line: \" + data[EMD_line])\n",
    "            data[EMD_line] = new_rule\n",
    "            print(data)\n",
    "            # and write everything back\n",
    "            with open(model_string + 'modelout.nlogo', 'w') as file:\n",
    "                file.writelines( data )\n",
    "                file.flush()\n",
    "                file.close()"
   ]
  },
  {
   "cell_type": "code",
   "execution_count": 2,
   "metadata": {
    "collapsed": true
   },
   "outputs": [],
   "source": [
    "'''The ABM with all its flexibility as EMD sees it'''\n",
    "'''EMD can use this class to control, set parameters, query results from'''\n",
    "'''and most importantly, change rules within the NetLogo model specified'''\n",
    "class ABM_NetLogo:\n",
    "    path_to_model = \"\"\n",
    "    model_as_text = \"\"\n",
    "    parameters = []\n",
    "    __nlogo_writer = None \n",
    "    def __init__(self, path_to_model):\n",
    "        self.path_to_model = path_to_model\n",
    "        __nlogo_writer = NetLogo_Writer(path_to_model)\n",
    "        #Read in the model to memory (instead of repeated disk reads)\n",
    "        print()\n",
    "    def inject_new_rule(self, new_rule):\n",
    "        #locate tag comment\n",
    "        __nlogo_writer.injectNewRule(new_rule)\n",
    "        #Replace line under tag with new_rule\n",
    "        \n",
    "        #Write model \n",
    "        \n",
    "        #Flush, close\n",
    "        print()\n",
    "    def set_parameters(self, parameter_values):\n",
    "        print()\n",
    "    def get_parameter_names(self):\n",
    "        #Return parameter names\n",
    "        print()\n",
    "    def run_abm(self):\n",
    "        #Run the ABM\n",
    "        print()\n",
    "\n",
    "\n",
    "class EMD_Individual:\n",
    "    def __init__(self):\n",
    "        print()\n",
    "    "
   ]
  },
  {
   "cell_type": "code",
   "execution_count": 3,
   "metadata": {},
   "outputs": [
    {
     "name": "stdout",
     "output_type": "stream",
     "text": [
      "259\n",
      "    ;;insert evolutionary code here\n",
      "\n",
      "()\n"
     ]
    },
    {
     "data": {
      "text/plain": [
       "<__main__.ABM_NetLogo instance at 0x0000000005F67188>"
      ]
     },
     "execution_count": 3,
     "metadata": {},
     "output_type": "execute_result"
    }
   ],
   "source": [
    "modelpath = \"./models/ArtificialAnasazi/Artificial Anasazi Ver 6.nlogo\"\n",
    "ABM_NetLogo(modelpath)"
   ]
  },
  {
   "cell_type": "code",
   "execution_count": 32,
   "metadata": {},
   "outputs": [
    {
     "name": "stderr",
     "output_type": "stream",
     "text": [
      "Exception in thread Thread-17:\n",
      "Traceback (most recent call last):\n",
      "  File \"C:\\Users\\ch328575\\AppData\\Local\\Continuum\\Anaconda2\\lib\\threading.py\", line 801, in __bootstrap_inner\n",
      "    self.run()\n",
      "  File \"C:\\Users\\ch328575\\AppData\\Local\\Continuum\\Anaconda2\\lib\\threading.py\", line 754, in run\n",
      "    self.__target(*self.__args, **self.__kwargs)\n",
      "  File \"<ipython-input-31-f453659aaf3f>\", line 17, in __runServer\n",
      "    print(subprocess.call(['java', '-jar', serlf.__server_name]))\n",
      "NameError: global name 'serlf' is not defined\n",
      "\n"
     ]
    }
   ],
   "source": [
    "n = NetLogo_Controller_Connector()\n",
    "n.startServer()"
   ]
  },
  {
   "cell_type": "code",
   "execution_count": null,
   "metadata": {
    "collapsed": true
   },
   "outputs": [],
   "source": []
  }
 ],
 "metadata": {
  "kernelspec": {
   "display_name": "Python 2",
   "language": "python",
   "name": "python2"
  },
  "language_info": {
   "codemirror_mode": {
    "name": "ipython",
    "version": 2
   },
   "file_extension": ".py",
   "mimetype": "text/x-python",
   "name": "python",
   "nbconvert_exporter": "python",
   "pygments_lexer": "ipython2",
   "version": "2.7.13"
  }
 },
 "nbformat": 4,
 "nbformat_minor": 2
}
